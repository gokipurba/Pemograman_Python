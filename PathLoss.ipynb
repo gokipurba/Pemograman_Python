{
  "nbformat": 4,
  "nbformat_minor": 0,
  "metadata": {
    "colab": {
      "name": "Untitled1.ipynb",
      "provenance": [],
      "authorship_tag": "ABX9TyMYD5vzj6knJdfkRyfdPjzC",
      "include_colab_link": true
    },
    "kernelspec": {
      "name": "python3",
      "display_name": "Python 3"
    }
  },
  "cells": [
    {
      "cell_type": "markdown",
      "metadata": {
        "id": "view-in-github",
        "colab_type": "text"
      },
      "source": [
        "<a href=\"https://colab.research.google.com/github/gokipurba/Pemograman_Python/blob/main/PathLoss.ipynb\" target=\"_parent\"><img src=\"https://colab.research.google.com/assets/colab-badge.svg\" alt=\"Open In Colab\"/></a>"
      ]
    },
    {
      "cell_type": "code",
      "metadata": {
        "id": "goMF_wLftN6q"
      },
      "source": [
        "import numpy as np"
      ],
      "execution_count": 1,
      "outputs": []
    },
    {
      "cell_type": "code",
      "metadata": {
        "colab": {
          "base_uri": "https://localhost:8080/"
        },
        "id": "C6ZKUHHDwavE",
        "outputId": "e184eec3-4b47-445e-df8e-2bf43ae0820f"
      },
      "source": [
        "y=10*np.log10(12)\r\n",
        "print (y)"
      ],
      "execution_count": 2,
      "outputs": [
        {
          "output_type": "stream",
          "text": [
            "10.79181246047625\n"
          ],
          "name": "stdout"
        }
      ]
    },
    {
      "cell_type": "code",
      "metadata": {
        "id": "oLLOuGSfwhyA"
      },
      "source": [
        "X= lambda x: 10*np.log10(x)   #numerik to logaritmik\r\n"
      ],
      "execution_count": 3,
      "outputs": []
    },
    {
      "cell_type": "code",
      "metadata": {
        "colab": {
          "base_uri": "https://localhost:8080/"
        },
        "id": "CjT2dS7txTjF",
        "outputId": "314753c0-b79d-400a-b79e-7ad9a330328f"
      },
      "source": [
        "z = X(12)\r\n",
        "print (z)"
      ],
      "execution_count": 4,
      "outputs": [
        {
          "output_type": "stream",
          "text": [
            "10.79181246047625\n"
          ],
          "name": "stdout"
        }
      ]
    },
    {
      "cell_type": "code",
      "metadata": {
        "id": "sDriVb6_xibE"
      },
      "source": [
        "Y= lambda x:10**(x/10) #Log to Numerik"
      ],
      "execution_count": 5,
      "outputs": []
    },
    {
      "cell_type": "code",
      "metadata": {
        "colab": {
          "base_uri": "https://localhost:8080/"
        },
        "id": "mBYFE21HzalR",
        "outputId": "bdef0764-f248-44ee-f1ac-4165467a8855"
      },
      "source": [
        "z = Y(3)\r\n",
        "print (z)"
      ],
      "execution_count": 6,
      "outputs": [
        {
          "output_type": "stream",
          "text": [
            "1.9952623149688795\n"
          ],
          "name": "stdout"
        }
      ]
    },
    {
      "cell_type": "code",
      "metadata": {
        "id": "-RTb5kxAzhFa"
      },
      "source": [
        "#Perhitungan PathLoos(PL (dB)); d(meter), f(Hz). \r\n",
        "def PL (d,f):\r\n",
        "  pl = 32.5 + 20*np.log10(d) + 20*np.log10(f)\r\n",
        "  pln = Y(-pl)\r\n",
        "  return pln,pl\r\n"
      ],
      "execution_count": 7,
      "outputs": []
    },
    {
      "cell_type": "code",
      "metadata": {
        "colab": {
          "base_uri": "https://localhost:8080/"
        },
        "id": "wk7f6SNL24VG",
        "outputId": "97316d94-dd7a-4e72-a99b-f059294f3014"
      },
      "source": [
        "#Hitung PathLoss dengan jarak (500 m) dan frekuensi (1800 MHz)\r\n",
        "PlossNum , PlossdB = PL(500,1800000000)\r\n",
        "print (\"Besar PathLoss(dB) :\", PlossdB,\"dB\")\r\n",
        "print (\"Besar Pathloss(Num):\", PlossNum,\"Kali\")\r\n",
        "\r\n"
      ],
      "execution_count": 8,
      "outputs": [
        {
          "output_type": "stream",
          "text": [
            "Besar PathLoss(dB) : 271.5848501887865 dB\n",
            "Besar Pathloss(Num): 6.942485496177139e-28 Kali\n"
          ],
          "name": "stdout"
        }
      ]
    },
    {
      "cell_type": "code",
      "metadata": {
        "id": "mEJoylWn3PwR"
      },
      "source": [
        "def PerhitunganPathloss (d,f,PTxW):\r\n",
        "  PTxdB = X(PTxW)\r\n",
        "  PlossNum , PlossdB  = PL(d,f)\r\n",
        "  PRxdB = PTxdB - PlossdB\r\n",
        "  print (\"Nilai PRx(dB) :\",PRxdB,\"dB\")\r\n",
        "  PRxW = Y(PRxdB)\r\n",
        "  print(\"Nilai Daya Tertima(Watt) :\",PRxW,\"W\")\r\n"
      ],
      "execution_count": 9,
      "outputs": []
    },
    {
      "cell_type": "code",
      "metadata": {
        "colab": {
          "base_uri": "https://localhost:8080/"
        },
        "id": "3iNaOxWe-4n0",
        "outputId": "e37c4f3c-66e6-406d-fb00-fda6b57078c6"
      },
      "source": [
        "PerhitunganPathloss (5,700,40)\r\n"
      ],
      "execution_count": 10,
      "outputs": [
        {
          "output_type": "stream",
          "text": [
            "Nilai PRx(dB) : -87.36076097372589 dB\n",
            "Nilai Daya Tertima(Watt) : 1.8362165720501197e-09 W\n"
          ],
          "name": "stdout"
        }
      ]
    },
    {
      "cell_type": "code",
      "metadata": {
        "id": "vMuAJPg_FKQF"
      },
      "source": [
        " "
      ],
      "execution_count": 10,
      "outputs": []
    },
    {
      "cell_type": "code",
      "metadata": {
        "id": "JQfxqhghFYw6"
      },
      "source": [
        ""
      ],
      "execution_count": 10,
      "outputs": []
    }
  ]
}